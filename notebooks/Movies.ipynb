{
 "metadata": {
  "name": ""
 },
 "nbformat": 3,
 "nbformat_minor": 0,
 "worksheets": [
  {
   "cells": [
    {
     "cell_type": "markdown",
     "metadata": {},
     "source": [
      "Loading .DAT files into Panda with <b>read_table</b>"
     ]
    },
    {
     "cell_type": "code",
     "collapsed": false,
     "input": [
      "import pandas as pd\n",
      "\n",
      "unames = ['user_id','gender','age','occupation','zip']\n",
      "users = pd.read_table('movielens/users.dat', sep='::',header=None, names=unames)\n",
      "\n",
      "rnames = ['user_id','movie_id','rating','timestamp']\n",
      "raitings = pd.read_table('movielens/ratings.dat', sep='::',header=None, names=rnames)\n",
      "\n",
      "mnames = ['movie_id','title','genres']\n",
      "movies = pd.read_table('movielens/movies.dat', sep='::',header=None, names=mnames)\n"
     ],
     "language": "python",
     "metadata": {},
     "outputs": [],
     "prompt_number": 5
    },
    {
     "cell_type": "code",
     "collapsed": false,
     "input": [],
     "language": "python",
     "metadata": {},
     "outputs": []
    },
    {
     "cell_type": "code",
     "collapsed": false,
     "input": [],
     "language": "python",
     "metadata": {},
     "outputs": []
    }
   ],
   "metadata": {}
  }
 ]
}