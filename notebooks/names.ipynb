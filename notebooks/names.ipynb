{
 "metadata": {
  "name": ""
 },
 "nbformat": 3,
 "nbformat_minor": 0,
 "worksheets": [
  {
   "cells": [
    {
     "cell_type": "code",
     "collapsed": false,
     "input": [
      "import pandas as pd\n",
      "names1880 = pd.read_csv('names/yob1880.txt',names=['name','sex','births'])\n",
      "names1880.groupby('sex').births.sum()"
     ],
     "language": "python",
     "metadata": {},
     "outputs": [
      {
       "metadata": {},
       "output_type": "pyout",
       "prompt_number": 5,
       "text": [
        "sex\n",
        "F       90993\n",
        "M      110493\n",
        "Name: births, dtype: int64"
       ]
      }
     ],
     "prompt_number": 5
    },
    {
     "cell_type": "code",
     "collapsed": false,
     "input": [
      "years = range(1880,2011)\n",
      "pieces = []\n",
      "columns = ['name','sex','births']\n",
      "\n",
      "for year in years:\n",
      "    path = 'names/yob%d.txt' % year\n",
      "    frame = pd.read_csv(path,names=columns)\n",
      "    frame['year'] = year\n",
      "    pieces.append(frame)\n",
      "\n",
      "names = pd.concat(pieces, ignore_index= True)"
     ],
     "language": "python",
     "metadata": {},
     "outputs": [],
     "prompt_number": 7
    },
    {
     "cell_type": "code",
     "collapsed": false,
     "input": [
      "total_births = names.pivot_table('births',rows='year',cols='sex',aggfunc=sum)\n",
      "total_births[:10]"
     ],
     "language": "python",
     "metadata": {},
     "outputs": [
      {
       "html": [
        "<div style=\"max-height:1000px;max-width:1500px;overflow:auto;\">\n",
        "<table border=\"1\" class=\"dataframe\">\n",
        "  <thead>\n",
        "    <tr style=\"text-align: right;\">\n",
        "      <th>sex</th>\n",
        "      <th>F</th>\n",
        "      <th>M</th>\n",
        "    </tr>\n",
        "    <tr>\n",
        "      <th>year</th>\n",
        "      <th></th>\n",
        "      <th></th>\n",
        "    </tr>\n",
        "  </thead>\n",
        "  <tbody>\n",
        "    <tr>\n",
        "      <th>1880</th>\n",
        "      <td>  90993</td>\n",
        "      <td> 110493</td>\n",
        "    </tr>\n",
        "    <tr>\n",
        "      <th>1881</th>\n",
        "      <td>  91955</td>\n",
        "      <td> 100748</td>\n",
        "    </tr>\n",
        "    <tr>\n",
        "      <th>1882</th>\n",
        "      <td> 107851</td>\n",
        "      <td> 113687</td>\n",
        "    </tr>\n",
        "    <tr>\n",
        "      <th>1883</th>\n",
        "      <td> 112322</td>\n",
        "      <td> 104632</td>\n",
        "    </tr>\n",
        "    <tr>\n",
        "      <th>1884</th>\n",
        "      <td> 129021</td>\n",
        "      <td> 114445</td>\n",
        "    </tr>\n",
        "    <tr>\n",
        "      <th>1885</th>\n",
        "      <td> 133056</td>\n",
        "      <td> 107802</td>\n",
        "    </tr>\n",
        "    <tr>\n",
        "      <th>1886</th>\n",
        "      <td> 144538</td>\n",
        "      <td> 110785</td>\n",
        "    </tr>\n",
        "    <tr>\n",
        "      <th>1887</th>\n",
        "      <td> 145983</td>\n",
        "      <td> 101412</td>\n",
        "    </tr>\n",
        "    <tr>\n",
        "      <th>1888</th>\n",
        "      <td> 178631</td>\n",
        "      <td> 120857</td>\n",
        "    </tr>\n",
        "    <tr>\n",
        "      <th>1889</th>\n",
        "      <td> 178369</td>\n",
        "      <td> 110590</td>\n",
        "    </tr>\n",
        "  </tbody>\n",
        "</table>\n",
        "<p>10 rows \u00d7 2 columns</p>\n",
        "</div>"
       ],
       "metadata": {},
       "output_type": "pyout",
       "prompt_number": 11,
       "text": [
        "sex        F       M\n",
        "year                \n",
        "1880   90993  110493\n",
        "1881   91955  100748\n",
        "1882  107851  113687\n",
        "1883  112322  104632\n",
        "1884  129021  114445\n",
        "1885  133056  107802\n",
        "1886  144538  110785\n",
        "1887  145983  101412\n",
        "1888  178631  120857\n",
        "1889  178369  110590\n",
        "\n",
        "[10 rows x 2 columns]"
       ]
      }
     ],
     "prompt_number": 11
    },
    {
     "cell_type": "code",
     "collapsed": false,
     "input": [
      "%matplotlib inline\n",
      "import matplotlib.pyplot as plt\n",
      "total_births.plot(title='Total births by sex and year')"
     ],
     "language": "python",
     "metadata": {},
     "outputs": [
      {
       "metadata": {},
       "output_type": "pyout",
       "prompt_number": 12,
       "text": [
        "<matplotlib.axes.AxesSubplot at 0x10a933b90>"
       ]
      },
      {
       "metadata": {},
       "output_type": "display_data",
       "png": "[encoded data removed]",
       "text": [
        "<matplotlib.figure.Figure at 0x10a933810>"
       ]
      }
     ],
     "prompt_number": 12
    },
    {
     "cell_type": "code",
     "collapsed": false,
     "input": [],
     "language": "python",
     "metadata": {},
     "outputs": []
    }
   ],
   "metadata": {}
  }
 ]
}